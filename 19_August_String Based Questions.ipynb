{
 "cells": [
  {
   "cell_type": "code",
   "execution_count": 1,
   "id": "acbc7a21-2506-4a4b-bc2d-542b2aa876d7",
   "metadata": {},
   "outputs": [],
   "source": [
    "a= \"Girish\""
   ]
  },
  {
   "cell_type": "code",
   "execution_count": 2,
   "id": "d11b7dc9-a6da-4a7b-aa33-559b27c91400",
   "metadata": {},
   "outputs": [
    {
     "data": {
      "text/plain": [
       "'Girish'"
      ]
     },
     "execution_count": 2,
     "metadata": {},
     "output_type": "execute_result"
    }
   ],
   "source": [
    "a"
   ]
  },
  {
   "cell_type": "code",
   "execution_count": 5,
   "id": "b9d1e605-d0f9-4ddf-aa05-d9dd1e7c5ddf",
   "metadata": {},
   "outputs": [],
   "source": [
    "b= 'i am learning data science'"
   ]
  },
  {
   "cell_type": "code",
   "execution_count": 4,
   "id": "2bd6996c-056a-4d21-90d5-d36a1973dab6",
   "metadata": {},
   "outputs": [
    {
     "data": {
      "text/plain": [
       "'i am learning data science'"
      ]
     },
     "execution_count": 4,
     "metadata": {},
     "output_type": "execute_result"
    }
   ],
   "source": [
    "b"
   ]
  },
  {
   "cell_type": "code",
   "execution_count": 7,
   "id": "0c9f8360-4429-410c-953f-bb2b3af68e76",
   "metadata": {},
   "outputs": [
    {
     "data": {
      "text/plain": [
       "'Girish'"
      ]
     },
     "execution_count": 7,
     "metadata": {},
     "output_type": "execute_result"
    }
   ],
   "source": [
    "a"
   ]
  },
  {
   "cell_type": "code",
   "execution_count": 12,
   "id": "aaeb23ae-cf08-45bc-965d-c4fb469750bc",
   "metadata": {},
   "outputs": [
    {
     "data": {
      "text/plain": [
       "'hsiriG'"
      ]
     },
     "execution_count": 12,
     "metadata": {},
     "output_type": "execute_result"
    }
   ],
   "source": [
    "a[5:-7:-1]"
   ]
  },
  {
   "cell_type": "code",
   "execution_count": 14,
   "id": "e27b3811-07d8-41cd-ab8f-b82358e58b1c",
   "metadata": {},
   "outputs": [],
   "source": [
    "s1='kalange'"
   ]
  },
  {
   "cell_type": "code",
   "execution_count": 16,
   "id": "b9b6d108-c25b-4ccb-b573-c43d88cef541",
   "metadata": {},
   "outputs": [
    {
     "data": {
      "text/plain": [
       "'kalange'"
      ]
     },
     "execution_count": 16,
     "metadata": {},
     "output_type": "execute_result"
    }
   ],
   "source": [
    "s1[0:7]"
   ]
  },
  {
   "cell_type": "code",
   "execution_count": 19,
   "id": "16368cc3-b6b6-4442-b7f4-05285d689ac4",
   "metadata": {},
   "outputs": [
    {
     "data": {
      "text/plain": [
       "'egnalak'"
      ]
     },
     "execution_count": 19,
     "metadata": {},
     "output_type": "execute_result"
    }
   ],
   "source": [
    "s1[6:-8:-1]"
   ]
  },
  {
   "cell_type": "code",
   "execution_count": 21,
   "id": "562f364e-aa27-4cd5-8ead-b725ac423ea6",
   "metadata": {},
   "outputs": [],
   "source": [
    "s2=\"g i r i s h\""
   ]
  },
  {
   "cell_type": "code",
   "execution_count": 22,
   "id": "bcfcc84f-584f-4436-a5fc-ee656f5bdbb0",
   "metadata": {},
   "outputs": [
    {
     "data": {
      "text/plain": [
       "'g i r i s h'"
      ]
     },
     "execution_count": 22,
     "metadata": {},
     "output_type": "execute_result"
    }
   ],
   "source": [
    "s2"
   ]
  },
  {
   "cell_type": "code",
   "execution_count": 23,
   "id": "a0a6cdf5-0071-41bd-8ee5-b5be3ef8afe3",
   "metadata": {},
   "outputs": [
    {
     "ename": "NameError",
     "evalue": "name 'spc' is not defined",
     "output_type": "error",
     "traceback": [
      "\u001b[0;31m---------------------------------------------------------------------------\u001b[0m",
      "\u001b[0;31mNameError\u001b[0m                                 Traceback (most recent call last)",
      "Cell \u001b[0;32mIn[23], line 1\u001b[0m\n\u001b[0;32m----> 1\u001b[0m s2\u001b[38;5;241m=\u001b[39m\u001b[43mspc\u001b[49m(\u001b[38;5;28minput\u001b[39m())\n",
      "\u001b[0;31mNameError\u001b[0m: name 'spc' is not defined"
     ]
    }
   ],
   "source": [
    "s2="
   ]
  },
  {
   "cell_type": "code",
   "execution_count": null,
   "id": "55377d76-0aeb-4afd-8ac6-5a36d009ff5d",
   "metadata": {},
   "outputs": [],
   "source": []
  }
 ],
 "metadata": {
  "kernelspec": {
   "display_name": "Python 3 (ipykernel)",
   "language": "python",
   "name": "python3"
  },
  "language_info": {
   "codemirror_mode": {
    "name": "ipython",
    "version": 3
   },
   "file_extension": ".py",
   "mimetype": "text/x-python",
   "name": "python",
   "nbconvert_exporter": "python",
   "pygments_lexer": "ipython3",
   "version": "3.10.8"
  }
 },
 "nbformat": 4,
 "nbformat_minor": 5
}
