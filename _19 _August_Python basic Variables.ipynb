{
 "cells": [
  {
   "cell_type": "code",
   "execution_count": 1,
   "id": "2a861500-5e62-486d-a4f1-bdbfc4f065a6",
   "metadata": {},
   "outputs": [],
   "source": [
    "x=10"
   ]
  },
  {
   "cell_type": "code",
   "execution_count": 2,
   "id": "006b7053-bb74-4000-9e6d-7f4070d7efd3",
   "metadata": {},
   "outputs": [],
   "source": [
    "y=11"
   ]
  },
  {
   "cell_type": "code",
   "execution_count": 3,
   "id": "36b08ed4-602b-4624-aeeb-c8a09ff875ff",
   "metadata": {},
   "outputs": [],
   "source": [
    "length= 10"
   ]
  },
  {
   "cell_type": "code",
   "execution_count": 4,
   "id": "2ddce4dc-59ba-4359-bfe5-906289c55ae5",
   "metadata": {},
   "outputs": [],
   "source": [
    "width= 12"
   ]
  },
  {
   "cell_type": "code",
   "execution_count": 5,
   "id": "e79d6e01-2f22-422f-8616-381f92b765f2",
   "metadata": {},
   "outputs": [
    {
     "data": {
      "text/plain": [
       "22"
      ]
     },
     "execution_count": 5,
     "metadata": {},
     "output_type": "execute_result"
    }
   ],
   "source": [
    "length+width"
   ]
  },
  {
   "cell_type": "code",
   "execution_count": 10,
   "id": "56d227cf-2af5-47e5-95fa-fa9e89472912",
   "metadata": {},
   "outputs": [
    {
     "name": "stdin",
     "output_type": "stream",
     "text": [
      " 25\n"
     ]
    }
   ],
   "source": [
    "celsius= input()"
   ]
  },
  {
   "cell_type": "code",
   "execution_count": 11,
   "id": "63755cb4-c4e6-4900-83d1-f9d5482ad9e0",
   "metadata": {},
   "outputs": [
    {
     "data": {
      "text/plain": [
       "'25'"
      ]
     },
     "execution_count": 11,
     "metadata": {},
     "output_type": "execute_result"
    }
   ],
   "source": [
    "celsius"
   ]
  },
  {
   "cell_type": "code",
   "execution_count": 13,
   "id": "bbc59ef1-84ec-4123-8020-04db937f1bfc",
   "metadata": {},
   "outputs": [
    {
     "ename": "NameError",
     "evalue": "name 'fahrenheit' is not defined",
     "output_type": "error",
     "traceback": [
      "\u001b[0;31m---------------------------------------------------------------------------\u001b[0m",
      "\u001b[0;31mNameError\u001b[0m                                 Traceback (most recent call last)",
      "Cell \u001b[0;32mIn[13], line 1\u001b[0m\n\u001b[0;32m----> 1\u001b[0m celsius\u001b[38;5;241m=\u001b[39m\u001b[43mfahrenheit\u001b[49m(\u001b[38;5;28minput\u001b[39m())\n",
      "\u001b[0;31mNameError\u001b[0m: name 'fahrenheit' is not defined"
     ]
    }
   ],
   "source": [
    "celsius=fahrenheit(input())"
   ]
  },
  {
   "cell_type": "code",
   "execution_count": null,
   "id": "1e4cc66a-78e3-4e23-b31d-82e4edbe32b5",
   "metadata": {},
   "outputs": [],
   "source": []
  }
 ],
 "metadata": {
  "kernelspec": {
   "display_name": "Python 3 (ipykernel)",
   "language": "python",
   "name": "python3"
  },
  "language_info": {
   "codemirror_mode": {
    "name": "ipython",
    "version": 3
   },
   "file_extension": ".py",
   "mimetype": "text/x-python",
   "name": "python",
   "nbconvert_exporter": "python",
   "pygments_lexer": "ipython3",
   "version": "3.10.8"
  }
 },
 "nbformat": 4,
 "nbformat_minor": 5
}
